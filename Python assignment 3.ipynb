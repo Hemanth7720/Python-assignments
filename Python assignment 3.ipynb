{
 "cells": [
  {
   "cell_type": "markdown",
   "id": "32def48a",
   "metadata": {},
   "source": [
    "# 1. Why are functions advantageous to have in your programs?"
   ]
  },
  {
   "cell_type": "markdown",
   "id": "ccee61b7",
   "metadata": {},
   "source": [
    "Functions are advantageous to have in programs for the following reasons:\n",
    "\n",
    "Code reusability: Functions allow you to write a block of code once and then reuse it multiple times throughout your program. This can save you time and effort, especially if you are writing a large or complex program.\n",
    "\n",
    "Modularity: Functions help to modularize your code, which makes it easier to read, understand, and maintain. Each function should ideally perform a specific task, and you can combine multiple functions together to create more complex functionality.\n",
    "\n",
    "Encapsulation: Functions encapsulate related code and data together, which helps to improve the organization and security of your program. You can control the access to the data and functionality within a function, making it easier to protect sensitive information.\n",
    "\n",
    "Improved readability: Functions can improve the readability of your code by breaking it down into smaller, more manageable chunks. This makes it easier for other developers to understand and maintain your code.\n",
    "\n",
    "Testing: Functions can be easily tested independently, which makes it easier to identify and fix bugs in your program.\n",
    "Overall, functions are a powerful tool that can help you write more efficient, modular, and maintainable programs."
   ]
  },
  {
   "cell_type": "markdown",
   "id": "bff306a6",
   "metadata": {},
   "source": [
    "# 2. When does the code in a function run: when it specified or when it called?"
   ]
  },
  {
   "cell_type": "markdown",
   "id": "0f39f25c",
   "metadata": {},
   "source": [
    "The code in a function runs when the function is called, not when it is specified.\n",
    "\n",
    "When you define a function, you are simply creating a named block of code that can be executed later. The code within the function will not run until you explicitly call the function.\n",
    "\n",
    "For example, consider the following Python code:"
   ]
  },
  {
   "cell_type": "code",
   "execution_count": null,
   "id": "63767848",
   "metadata": {},
   "outputs": [],
   "source": [
    "def my_function():\n",
    "  print(\"Hello, world!\")\n",
    "\n",
    "# Call the function\n",
    "my_function()"
   ]
  },
  {
   "cell_type": "markdown",
   "id": "8c87776c",
   "metadata": {},
   "source": [
    "In this example, the code print(\"Hello, world!\") will not run until the function my_function() is called. "
   ]
  },
  {
   "cell_type": "markdown",
   "id": "58164721",
   "metadata": {},
   "source": [
    "# 3. What statement creates a function?"
   ]
  },
  {
   "cell_type": "markdown",
   "id": "0d7f1f29",
   "metadata": {},
   "source": [
    "In Python, the def statement is used to create a function.\n",
    "\n",
    "The general syntax of the def statement is as follows:"
   ]
  },
  {
   "cell_type": "code",
   "execution_count": null,
   "id": "53481978",
   "metadata": {},
   "outputs": [],
   "source": [
    "def function_name(parameters):\n",
    "  \"\"\"\n",
    "  Function documentation (optional)\n",
    "  \"\"\"\n",
    "  # Function body\n",
    "  # Code to be executed when the function is called"
   ]
  },
  {
   "cell_type": "code",
   "execution_count": null,
   "id": "8d4513a9",
   "metadata": {},
   "outputs": [],
   "source": [
    "def greet(name):\n",
    "  \"\"\"\n",
    "  This function prints a greeting message to the given name.\n",
    "  \"\"\"\n",
    "  print(f\"Hello, {name}!\")\n",
    "\n",
    "# Call the function\n",
    "greet(\"Alice\")"
   ]
  },
  {
   "cell_type": "markdown",
   "id": "c1096a93",
   "metadata": {},
   "source": [
    "In this example, the def statement creates a function called greet that takes one parameter, name. The function body contains a single line of code that prints a greeting message to the given name."
   ]
  },
  {
   "cell_type": "markdown",
   "id": "7cc5fca3",
   "metadata": {},
   "source": [
    "# 4. What is the difference between a function and a function call?"
   ]
  },
  {
   "cell_type": "code",
   "execution_count": null,
   "id": "721903f8",
   "metadata": {},
   "outputs": [],
   "source": [
    "\n",
    "Function:\n",
    "\n",
    "A function is a block of code that performs a specific task.\n",
    "It is defined using the def keyword followed by the function name, parameters, and a colon.\n",
    "The function body contains the code that will be executed when the function is called.\n",
    "\n",
    "Function call:\n",
    "\n",
    "A function call is the process of invoking a function.\n",
    "It involves using the function name followed by parentheses.\n",
    "The arguments passed to the function are placed inside the parentheses.\n",
    "\n",
    "Key differences:\n",
    "\n",
    "A function is a definition, while a function call is the usage of the function.\n",
    "A function can be defined multiple times, but a function call only executes the code once.\n",
    "When a function is called, the execution of the program jumps to the function definition and the code inside the function body is executed.\n",
    "After the function body is executed, the program returns to the point where the function was called and continues execution from there.\n",
    "Example:\n",
    "\n",
    " \n",
    "def greet(name):\n",
    "  \"\"\"\n",
    "  This function prints a greeting message to the given name.\n",
    "  \"\"\"\n",
    "  print(f\"Hello, {name}!\")\n",
    "\n",
    "# Function call\n",
    "greet(\"Alice\")\n",
    "\n",
    "In this example, the greet function is defined with one parameter, name. The function body prints a greeting message to the given name.\n",
    "\n",
    "When the function is called with the argument \"Alice\", the execution of the program jumps to the greet function definition and the code inside the function body is executed. The output will be:\n",
    "\n",
    " \n",
    "Hello, Alice!\n",
    "\n",
    "After the function body is executed, the program returns to the point where the function was called and continues execution from there."
   ]
  },
  {
   "cell_type": "markdown",
   "id": "3df4abe3",
   "metadata": {},
   "source": [
    "# 5.  How many global scopes are there in a Python program? How many local scopes?"
   ]
  },
  {
   "cell_type": "markdown",
   "id": "e4dc691b",
   "metadata": {},
   "source": [
    "Global scopes:\n",
    "\n",
    "There is only one global scope in a Python program.\n",
    "The global scope is created when the program starts and exists until the program ends.\n",
    "All variables and functions defined at the top level of the program are stored in the global scope.\n",
    "\n",
    "Local scopes:\n",
    "\n",
    "There can be multiple local scopes in a Python program.\n",
    "A local scope is created when a function is called and is destroyed when the function returns.\n",
    "All variables and functions defined inside a function are stored in the local scope of that function.\n",
    "\n",
    "Example:"
   ]
  },
  {
   "cell_type": "code",
   "execution_count": null,
   "id": "ea0d5127",
   "metadata": {},
   "outputs": [],
   "source": [
    "# Global variable\n",
    "global_variable = 10\n",
    "\n",
    "def my_function():\n",
    "  # Local variable\n",
    "  local_variable = 5\n",
    "  print(local_variable)\n",
    "\n",
    "my_function()\n",
    "print(global_variable)"
   ]
  },
  {
   "cell_type": "markdown",
   "id": "67853070",
   "metadata": {},
   "source": [
    "# 6. What happens to variables in a local scope when the function call returns?"
   ]
  },
  {
   "cell_type": "code",
   "execution_count": null,
   "id": "8aa988d1",
   "metadata": {},
   "outputs": [],
   "source": [
    "When a function call returns, all local variables within that function's scope are destroyed. This means that any changes made to local variables inside the function are not reflected outside the function.\n",
    "\n",
    "For example, consider the following code:\n",
    "\n",
    "def my_function():\n",
    "  x = 10  # Local variable\n",
    "\n",
    "  # Do something with x\n",
    "\n",
    "my_function()\n",
    "\n",
    "print(x)  # This will result in an error\n",
    "\n",
    "In this example, the variable x is local to the function my_function. When the function returns, the variable x is destroyed. Therefore, trying to access x outside the function will result in an error.\n",
    "\n",
    "This behavior is important to understand in order to avoid unintended consequences and ensure that your code is working as expected."
   ]
  },
  {
   "cell_type": "markdown",
   "id": "e0f4b0ed",
   "metadata": {},
   "source": [
    "# 7. What is the concept of a return value? Is it possible to have a return value in an expression?"
   ]
  },
  {
   "cell_type": "code",
   "execution_count": null,
   "id": "7a1c0170",
   "metadata": {},
   "outputs": [],
   "source": [
    "Concept of a Return Value:\n",
    "\n",
    "A return value is the data or object that a function produces as its output. When a function is called, it can optionally return a value that can be used by the caller.\n",
    "\n",
    "Return Value in an Expression:\n",
    "\n",
    "Yes, it is possible to have a return value in an expression. This is achieved by using a function call within an expression. The value returned by the function call becomes the value of the expression.\n",
    "\n",
    "For example:\n",
    "    \n",
    "    def square(x):\n",
    "  return x * x\n",
    "\n",
    "result = 2 + square(3)\n",
    "print(result)  # Output: 11\n",
    "\n",
    "In this example, the expression 2 + square(3) evaluates to 11 because the square(3) function call returns the value 9, which is then added to 2."
   ]
  },
  {
   "cell_type": "markdown",
   "id": "ddee93e1",
   "metadata": {},
   "source": [
    "# 8. If a function does not have a return statement, what is the return value of a call to that function?"
   ]
  },
  {
   "cell_type": "code",
   "execution_count": null,
   "id": "86dc0842",
   "metadata": {},
   "outputs": [],
   "source": [
    "If a function does not have a return statement, or if the return statement is not reached during execution, the function returns None.\n",
    "\n",
    "None is a special keyword in Python that represents the absence of a value. It is similar to null in other programming languages.\n",
    "\n",
    "For example, consider the following function:\n",
    "    \n",
    "    def my_function():\n",
    "  # Do something\n",
    "  # But don't return anything\n",
    "    \n",
    "    If we call this function and try to print its return value, we get None:\n",
    "\n",
    "result = my_function()\n",
    "print(result)  # Output: None\n",
    "\n",
    "Therefore, it is important to ensure that your functions have a return statement if you want them to produce a specific output. Otherwise, they will implicitly return None."
   ]
  },
  {
   "cell_type": "markdown",
   "id": "49b7c347",
   "metadata": {},
   "source": [
    "# 9. How do you make a function variable refer to the global variable?"
   ]
  },
  {
   "cell_type": "code",
   "execution_count": null,
   "id": "efe54a9e",
   "metadata": {},
   "outputs": [],
   "source": [
    "To make a function variable refer to the global variable of the same name, you can use the global keyword inside the function.\n",
    "\n",
    "Here's an example:\n",
    "\n",
    " \n",
    "my_global = 10  # Global variable\n",
    "\n",
    "def my_function():\n",
    "  global my_global\n",
    "  my_global += 5  # Modifies the global variable\n",
    "\n",
    "my_function()\n",
    "\n",
    "print(my_global)  # Output: 15"
   ]
  },
  {
   "cell_type": "markdown",
   "id": "be49321b",
   "metadata": {},
   "source": [
    "# 10. What is the data type of None?"
   ]
  },
  {
   "cell_type": "code",
   "execution_count": null,
   "id": "b3b680a9",
   "metadata": {},
   "outputs": [],
   "source": [
    "The data type of None in Python is NoneType.\n",
    "\n",
    "NoneType is a special data type that represents the absence of a value. It is similar to null in other programming languages.\n",
    "\n",
    "You can check the data type of None using the type() function:\n",
    "    \n",
    "    data_type = type(None)\n",
    "print(data_type)  # Output: <class 'NoneType'>\n",
    "\n",
    "None is a unique object in Python, and there is only one instance of it. This means that you can compare any object to None using the is operator:\n",
    "\n",
    " \n",
    "print(None is None)  # Output: True\n",
    "print(1 is None)  # Output: False\n",
    "\n",
    "None is often used to indicate that a variable or function does not have a value or return anything."
   ]
  },
  {
   "cell_type": "markdown",
   "id": "e818df8f",
   "metadata": {},
   "source": [
    "# 11. What does the sentence import areallyourpetsnamederic do?"
   ]
  },
  {
   "cell_type": "code",
   "execution_count": null,
   "id": "2294c77a",
   "metadata": {},
   "outputs": [],
   "source": [
    "he sentence import areallyourpetsnamederic in Python attempts to import a module named areallyourpetsnamederic.\n",
    "\n",
    "However, since there is no module with that name installed in Python, the import statement will fail with a ModuleNotFoundError.\n",
    "\n",
    "import areallyourpetsnamederic\n",
    "\n",
    "Explanation:\n",
    "\n",
    "The import statement in Python is used to import modules or packages from the current working directory or from Python's standard library.\n",
    "Modules are files containing Python code that can be imported and used in other Python programs.\n",
    "In this case, the import statement is trying to import a module named areallyourpetsnamederic, but such a module does not exist.\n",
    "Therefore, the import will fail with a ModuleNotFoundError, indicating that the module could not be found."
   ]
  },
  {
   "cell_type": "markdown",
   "id": "7d728d9f",
   "metadata": {},
   "source": [
    "# 12. If you had a bacon() feature in a spam module, what would you call it after importing spam?"
   ]
  },
  {
   "cell_type": "code",
   "execution_count": null,
   "id": "67b4a6c6",
   "metadata": {},
   "outputs": [],
   "source": [
    "If you had a bacon() feature in a spam module, you would call it spam.bacon() after importing the spam module.\n",
    "\n",
    " \n",
    "import spam\n",
    "\n",
    "# Call the bacon() feature\n",
    "spam.bacon()\n",
    "Use code with caution\n",
    "Explanation:\n",
    "\n",
    "When you import a module, you can access its features using the dot operator (.).\n",
    "The syntax module.feature allows you to access a feature named feature from a module named module.\n",
    "\n",
    "In this case, you would use spam.bacon() to call the bacon() feature from the spam module."
   ]
  },
  {
   "cell_type": "markdown",
   "id": "2bef01da",
   "metadata": {},
   "source": [
    "# 13. What can you do to save a programme from crashing if it encounters an error?"
   ]
  },
  {
   "cell_type": "code",
   "execution_count": null,
   "id": "7a431b1c",
   "metadata": {},
   "outputs": [],
   "source": [
    "There are several things you can do to save a program from crashing if it encounters an error:\n",
    "\n",
    "Use try-except blocks:\n",
    " \n",
    "try:\n",
    "  # Code that might raise an error\n",
    "except Exception as e:\n",
    "  # Code to handle the error\n",
    "  print(f\"An error occurred: {e}\")\n",
    "\n",
    "This code block attempts to execute the code within the try block. If an error occurs, the execution jumps to the except block, where you can handle the error gracefully.\n",
    "\n",
    "Use specific exception types:\n",
    " \n",
    "try:\n",
    "  # Code that might raise a ValueError\n",
    "except ValueError as e:\n",
    "  # Code to handle the ValueError\n",
    "except Exception as e:\n",
    "  # Code to handle other types of errors\n",
    "\n",
    "This code block uses specific exception types to handle different types of errors. This allows you to provide more targeted error handling.\n",
    "\n",
    "Use else and finally blocks:\n",
    " \n",
    "try:\n",
    "  # Code that might raise an error\n",
    "except Exception as e:\n",
    "  # Code to handle the error\n",
    "else:\n",
    "  # Code to execute if no error occurs\n",
    "finally:\n",
    "  # Code to execute regardless of whether an error occurs\n",
    "\n",
    "The else block will only be executed if no error occurs in the try block. The finally block will always be executed, regardless of whether an error occurs.\n",
    "\n",
    "Log errors to a file:\n",
    " \n",
    "import logging\n",
    "\n",
    "logging.basicConfig(filename=\"error.log\", level=logging.ERROR)\n",
    "\n",
    "try:\n",
    "  # Code that might raise an error\n",
    "except Exception as e:\n",
    "  logging.error(f\"An error occurred: {e}\")\n",
    "\n",
    "This code block logs errors to a file named \"error.log\". This can be useful for debugging and troubleshooting your program.\n",
    "\n",
    "Use a debugger:\n",
    "Python has a built-in debugger that you can use to step through your code and identify the source of an error. To use the debugger, simply add the pdb.set_trace() statement at the point where you want to start debugging.\n",
    "\n",
    "These are just a few of the things you can do to save a program from crashing if it encounters an error. By using these techniques, you can make your programs more robust and reliable."
   ]
  },
  {
   "cell_type": "markdown",
   "id": "14c32fba",
   "metadata": {},
   "source": [
    "# 14. What is the purpose of the try clause? What is the purpose of the except clause?"
   ]
  },
  {
   "cell_type": "code",
   "execution_count": null,
   "id": "bbbc47bb",
   "metadata": {},
   "outputs": [],
   "source": [
    "Purpose of the try clause:\n",
    "\n",
    "The try clause in a try-except block is used to enclose the code that might raise an error. If an error occurs within the try block, the execution jumps to the corresponding except block.\n",
    "\n",
    "Purpose of the except clause:\n",
    "\n",
    "The except clause is used to handle the error that was raised in the try block. It specifies the type of error to be handled and provides a block of code to execute when the error occurs.\n",
    "\n",
    "Here is an example to illustrate the purpose of the try and except clauses:\n",
    "\n",
    " \n",
    "try:\n",
    "  # Code that might raise a ValueError\n",
    "  int(\"abc\")\n",
    "except ValueError:\n",
    "  # Code to handle the ValueError\n",
    "  print(\"Invalid input. Please enter a valid integer.\")\n",
    "\n",
    "In this example, the try block contains the code int(\"abc\"), which will raise a ValueError because \"abc\" is not a valid integer. The except block catches the ValueError and prints a message to the user.\n",
    "\n",
    "Without the try-except block, the program would crash with the following error:\n",
    "\n",
    " \n",
    "ValueError: invalid literal for int() with base 10: 'abc'\n",
    "\n",
    "By using the try-except block, we have prevented the program from crashing and provided a more user-friendly error message."
   ]
  }
 ],
 "metadata": {
  "kernelspec": {
   "display_name": "Python 3 (ipykernel)",
   "language": "python",
   "name": "python3"
  },
  "language_info": {
   "codemirror_mode": {
    "name": "ipython",
    "version": 3
   },
   "file_extension": ".py",
   "mimetype": "text/x-python",
   "name": "python",
   "nbconvert_exporter": "python",
   "pygments_lexer": "ipython3",
   "version": "3.11.5"
  }
 },
 "nbformat": 4,
 "nbformat_minor": 5
}
